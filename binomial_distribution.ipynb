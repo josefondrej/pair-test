{
 "cells": [
  {
   "cell_type": "code",
   "execution_count": 35,
   "metadata": {},
   "outputs": [],
   "source": [
    "import numpy as np\n",
    "from scipy import stats as st\n",
    "import matplotlib.pyplot as plt\n",
    "from typing import Tuple"
   ]
  },
  {
   "cell_type": "markdown",
   "metadata": {},
   "source": [
    "## Problem Description\n",
    "\n",
    "We have $n$ pairs of independent identically distributed observations $(X_i, Y_i), i = 1, \\dots, n$. \n",
    "\n",
    "$$\n",
    "P(X_i = 0, Y_i = 0) = p_{00} \\\\\n",
    "P(X_i = 0, Y_i = 1) = p_{01} \\\\\n",
    "P(X_i = 1, Y_i = 0) = p_{10} \\\\\n",
    "P(X_i = 1, Y_i = 1) = p_{11} \\\\\n",
    "$$\n",
    "\n",
    "We want to test the hypothesis that \n",
    "\n",
    "$$H_0: EX = EY$$\n",
    "\n",
    "against the alternative \n",
    "\n",
    "$$ H_1: EX < EY. $$ \n",
    "\n",
    "$ H_0 $ is equivalent to \n",
    "\n",
    "$$ p_{10} + p_{11} = p_{01} + p_{11} $$\n",
    "\n",
    "which is equivalent to \n",
    "\n",
    "$$ p_{10} = p_{01}. $$"
   ]
  },
  {
   "cell_type": "markdown",
   "metadata": {},
   "source": [
    "## Ad-hoc Frequentist Approach\n",
    "\n",
    "Define $Z_{01}$ the number of cases $(X,Y) = (0,1)$ (similarly define $Z_{00}, Z_{10}, Z_{11}$).\n",
    "\n",
    "We have\n",
    "\n",
    "$$ P(Z_{01} | Z_{01} + Z_{10} = m) \\sim Bi \\big(m, \\frac{p_{01}}{p_{01} + p_{10}} \\big) $$\n",
    "\n",
    "the term on right hand side is $ Bi(m, 0.5) $ under $ H_0 $. (TODO: There must be some additional assumptions so we can follow this line of thought, what are they exactly?) \n",
    "\n",
    "So if $ H_0 $ were true the probability we get observation $ Z_{01} $ or an observation which we would say is even more in favor of $ H_1 $ than the observed $Z_{01}$ (this is the p-value) is\n",
    "\n",
    "$$ 1 - \\mathrm{cdf}_{Bi(m, 0.5)}\\big (Z_{01} - 1 \\big ) $$\n",
    "\n",
    "If this probability is very low, for example $5 \\%$, we reject $ H_0 $ in favour of $ H_1 $."
   ]
  },
  {
   "cell_type": "markdown",
   "metadata": {},
   "source": [
    "**Note**\n",
    "\n",
    "Consider two following sequences of $ (X,Y)_i $ for $ n = 9 $, each of these has $\\sum X_i = 3$ and $\\sum Y_i = 6$\n",
    "\n",
    "**CASE A: ** (0,1), (0,1), (0,1), (0,1), (0,1), (0,1), (1,0), (1,0), (1,0)\n",
    "\n",
    "$$ \n",
    "m = 10, Z_{01} = 6 \\\\\n",
    "1 - \\mathrm{cdf}_{Bi(m, 0.5)} \\doteq 0.377 \n",
    "$$\n",
    "\n",
    "**CASE B: ** (1,1), (1,1), (1,1), (0,1), (0,1), (0,1), (0,0), (0,0), (0,0)\n",
    "\n",
    "$$\n",
    "m = 3, Z_{01} = 3 \\\\\n",
    "1 - \\mathrm{cdf}_{Bi(m, 0.5)} = 0.125 \n",
    "$$\n",
    "\n",
    "From this we can see, that having only the information about $\\sum X_i$ and $\\sum Y_i$ is not sufficient. In fact the p-value in case A is almost 3 times larger than the p-value in case B!"
   ]
  },
  {
   "cell_type": "code",
   "execution_count": 4,
   "metadata": {},
   "outputs": [],
   "source": [
    "def calculate_significance_level(m: int, z_01: int) -> float: \n",
    "    \"\"\" Probability we will measure statistic \n",
    "    that is more in favour of H_1 then our measurement \"\"\"\n",
    "    p_0 = 0.5\n",
    "    alpha = 1 - st.binom.cdf(k=z_01-1, n=m, p=p_0)\n",
    "    return alpha "
   ]
  },
  {
   "cell_type": "code",
   "execution_count": 11,
   "metadata": {},
   "outputs": [
    {
     "name": "stdout",
     "output_type": "stream",
     "text": [
      "In case A the significance level is 0.3769531250000001 \n",
      "in case B it is 0.125\n"
     ]
    }
   ],
   "source": [
    "print(f\"In case A the significance level is {calculate_significance_level(10, 6)} \\n\"\\\n",
    "      f\"in case B it is {calculate_significance_level(3, 3)}\")"
   ]
  },
  {
   "cell_type": "markdown",
   "metadata": {},
   "source": [
    "**Test your guess**\n",
    "\n",
    "If we have $m = 100$, how many times must $Y > X$ so we can say it is 'better' with $80\\%$ confidence?"
   ]
  },
  {
   "cell_type": "code",
   "execution_count": 12,
   "metadata": {},
   "outputs": [
    {
     "name": "stdout",
     "output_type": "stream",
     "text": [
      "The answer is 8.0\n"
     ]
    }
   ],
   "source": [
    "m = 100\n",
    "p_0 = 0.5\n",
    "confidence = 0.80\n",
    "answer = 2*((m/2) - st.binom.ppf(1 - confidence, m, p_0))\n",
    "print(f\"The answer is {answer}\")"
   ]
  },
  {
   "cell_type": "markdown",
   "metadata": {},
   "source": [
    "## Ad-hoc Bayesian Approach\n",
    "\n",
    "Denote $ p_{01}^{*} = \\frac{p_{01}}{p_{01} + p_{10}} $\n",
    "\n",
    "The previous frequentist approach was basically a test whether $ H_0: p_{01}^{*} = 0.5 $ against the alternative $ H_1: p_{01}^{*} > 0.5 $\n",
    "\n",
    "In Bayesian view $ p_{01}^{*} $ is not a fixed parameter but a random variable. It is reasonable to assume it's prior is distributed according to $ Beta(\\alpha, \\alpha) $ (this is standard symmetric distribution on interval [0,1], we choose symmetric if we have no prior reason to believe $X$ is better / worse than $Y$). We can calculate posterior of $ p_{01}^{*} $ and from that we can for example calculate the probability that posterior of $ p_{01}^{*} $ is greater than $ 0.5 $ or better yet the one-sided credibility interval for $p_{01}^{*}.$ If this interval lies to the right of $0.5$ we can say $Y > X$ with probability for example $0.9$. \n",
    "\n",
    "In addition we can also make claims such as $Y$ can't be worse than $X$ by more than $20\\%$ with probability more than $1\\%$. \n",
    "\n",
    "**Technical details**\n",
    "\n",
    "TODO: think about additional assumptions you are making here (see Ad-hoc Frequentist approach). \n",
    "\n",
    "We have $ Z_{01} | p^*_{01}, m \\sim Bi(m, p^*_{01}) $ \n",
    "and \n",
    "$ p_{01}^* \\sim Beta(\\alpha, \\alpha) $ from which (using the [well known relation](https://en.wikipedia.org/wiki/Conjugate_prior#Discrete_distributions) for posterior in the beta binomial case) we have \n",
    "\n",
    "$$\n",
    "p_{01}^* | Z_{01}, m \\sim Beta( \\alpha + Z_{01}, \\alpha + m - Z_{01}) \n",
    "$$"
   ]
  },
  {
   "cell_type": "markdown",
   "metadata": {},
   "source": [
    "The parameter $\\alpha$ must be selected on case-by-case basis (the higher it's value the greater our prior belief about $X = Y$). Let's for now assume $\\alpha = 1$ which corresponds to the prior of $p_{01}^*$ beiing a uniform distribution on $[0,1]$."
   ]
  },
  {
   "cell_type": "code",
   "execution_count": 37,
   "metadata": {},
   "outputs": [],
   "source": [
    "def plot_beta_density(alpha: float, beta: float, label: str = None):\n",
    "    \"\"\" Plot probability density function of Beta(alpha, beta) \"\"\"\n",
    "    grid_density = 100\n",
    "    x = np.linspace(0,1,grid_density)\n",
    "    y = st.beta.pdf(x, alpha, beta)\n",
    "    plt.plot(x, y, label = label)"
   ]
  },
  {
   "cell_type": "code",
   "execution_count": 39,
   "metadata": {},
   "outputs": [],
   "source": [
    "def posterior_alpha_beta(alpha: float, beta: float, n: int, k: int) -> Tuple[float]: \n",
    "    \"\"\" Calculate posterior parameters of p with prior Beta(alpha, beta) \n",
    "        Given observation: k ones out of n iid trials where each trial | p ~ Alt(p)\n",
    "    \"\"\"\n",
    "    return alpha + k, beta + n - k"
   ]
  },
  {
   "cell_type": "code",
   "execution_count": 54,
   "metadata": {},
   "outputs": [],
   "source": [
    "def plot_posterior(alpha: float, beta: float, n: int, k: int, label: str = None) -> Tuple[float]: \n",
    "    alpha_posterior, beta_posterior = posterior_alpha_beta(alpha, beta, n, k)\n",
    "    plot_beta_density(alpha_posterior, beta_posterior, label)"
   ]
  },
  {
   "cell_type": "code",
   "execution_count": 76,
   "metadata": {},
   "outputs": [],
   "source": [
    "def posterior_quantile(q: float, alpha: float, beta: float, n: int, k: int) -> float: \n",
    "    alpha_posterior, beta_posterior = posterior_alpha_beta(alpha, beta, n, k)\n",
    "    quantile = st.beta.ppf(q, alpha_posterior, beta_posterior)\n",
    "    return quantile"
   ]
  },
  {
   "cell_type": "code",
   "execution_count": 80,
   "metadata": {},
   "outputs": [],
   "source": [
    "def posterior_cdf(x: float, alpha: float, beta: float, n: int, k: int) -> float: \n",
    "    alpha_posterior, beta_posterior = posterior_alpha_beta(alpha, beta, n, k)\n",
    "    probability = st.beta.cdf(x, alpha_posterior, beta_posterior)\n",
    "    return probability"
   ]
  },
  {
   "cell_type": "code",
   "execution_count": 83,
   "metadata": {},
   "outputs": [
    {
     "data": {
      "text/plain": [
       "<matplotlib.lines.Line2D at 0x7f3629b632b0>"
      ]
     },
     "execution_count": 83,
     "metadata": {},
     "output_type": "execute_result"
    },
    {
     "data": {
      "image/png": "[encoded data removed]",
      "text/plain": [
       "<Figure size 432x288 with 1 Axes>"
      ]
     },
     "metadata": {},
     "output_type": "display_data"
    }
   ],
   "source": [
    "alpha = 1.0\n",
    "\n",
    "plot_posterior(alpha, alpha, 10, 6, \"CASE A\")\n",
    "plot_posterior(alpha, alpha, 3, 3, \"CASE B\")\n",
    "plt.legend()\n",
    "plt.axvline(x=0.5, color=\"gray\", ls=\"dotted\")"
   ]
  },
  {
   "cell_type": "code",
   "execution_count": 108,
   "metadata": {},
   "outputs": [
    {
     "name": "stdout",
     "output_type": "stream",
     "text": [
      "Probability of posterior >= 0.5: \n",
      "\n",
      "case A: 0.73 \n",
      "case B: 0.94 \n",
      "\n",
      "We are 90% confident that Y is better than X by at least: \n",
      "\n",
      "case A: -20.0 % \n",
      "case B: 12.0 %\n"
     ]
    }
   ],
   "source": [
    "print(f\"Probability of posterior >= 0.5: \\n\\n\"\n",
    "      f\"case A: {np.round(1 - posterior_cdf(0.5, 1., 1., 10, 6), 2)} \\n\"\n",
    "      f\"case B: {np.round(1 - posterior_cdf(0.5, 1., 1., 3, 3), 2)} \\n\\n\"\n",
    "      f\"We are 90% confident that Y is better than X by at least: \\n\\n\"\n",
    "      f\"case A: {np.round(2*(posterior_quantile(1 - 0.9, 1., 1., 10, 6) - 0.5), 2)*100} % \\n\"\n",
    "      f\"case B: {np.round(2*(posterior_quantile(1 - 0.9, 1., 1., 3, 3) - 0.5), 2)*100} %\")"
   ]
  },
  {
   "cell_type": "markdown",
   "metadata": {},
   "source": [
    "## Conceptual Frequentist Approach\n",
    "\n",
    "TODO"
   ]
  },
  {
   "cell_type": "code",
   "execution_count": null,
   "metadata": {},
   "outputs": [],
   "source": []
  },
  {
   "cell_type": "markdown",
   "metadata": {},
   "source": [
    "## Conceptual Bayesian Approach [the way to go]\n",
    "\n",
    "TODO"
   ]
  },
  {
   "cell_type": "code",
   "execution_count": null,
   "metadata": {},
   "outputs": [],
   "source": []
  }
 ],
 "metadata": {
  "kernelspec": {
   "display_name": "Python 3",
   "language": "python",
   "name": "python3"
  },
  "language_info": {
   "codemirror_mode": {
    "name": "ipython",
    "version": 3
   },
   "file_extension": ".py",
   "mimetype": "text/x-python",
   "name": "python",
   "nbconvert_exporter": "python",
   "pygments_lexer": "ipython3",
   "version": "3.6.5"
  }
 },
 "nbformat": 4,
 "nbformat_minor": 2
}
