{
 "cells": [
  {
   "cell_type": "code",
   "execution_count": 8,
   "metadata": {},
   "outputs": [],
   "source": [
    "import numpy as np\n",
    "from scipy import stats as st\n",
    "from scipy import optimize as opt\n",
    "import matplotlib.pyplot as plt\n",
    "from typing import Tuple, List, Set\n",
    "import math"
   ]
  },
  {
   "cell_type": "markdown",
   "metadata": {},
   "source": [
    "## Problem Description\n",
    "\n",
    "We have $n$ pairs of independent identically distributed observations $(X_i, Y_i), i = 1, \\dots, n$. \n",
    "\n",
    "$$\n",
    "P(X_i = 0, Y_i = 0) = p_{00} \\\\\n",
    "P(X_i = 0, Y_i = 1) = p_{01} \\\\\n",
    "P(X_i = 1, Y_i = 0) = p_{10} \\\\\n",
    "P(X_i = 1, Y_i = 1) = p_{11} \\\\\n",
    "$$\n",
    "\n",
    "We want to test the hypothesis that \n",
    "\n",
    "$$H_0: EX = EY$$\n",
    "\n",
    "against the alternative \n",
    "\n",
    "$$ H_1: EX < EY. $$ \n",
    "\n",
    "$ H_0 $ is equivalent to \n",
    "\n",
    "$$ p_{10} + p_{11} = p_{01} + p_{11} $$\n",
    "\n",
    "which is equivalent to \n",
    "\n",
    "$$ p_{10} = p_{01}. $$"
   ]
  },
  {
   "cell_type": "markdown",
   "metadata": {},
   "source": [
    "## Ad-hoc Frequentist Approach\n",
    "\n",
    "Define $Z_{01}$ the number of cases $(X,Y) = (0,1)$ (similarly define $Z_{00}, Z_{10}, Z_{11}$).\n",
    "\n",
    "We have\n",
    "\n",
    "$$ P(Z_{01} | Z_{01} + Z_{10} = m) \\sim Bi \\big(m, \\frac{p_{01}}{p_{01} + p_{10}} \\big) $$\n",
    "\n",
    "the term on right hand side is $ Bi(m, 0.5) $ under $ H_0 $. (TODO: There must be some additional assumptions so we can follow this line of thought, what are they exactly?) \n",
    "\n",
    "So if $ H_0 $ were true the probability we get observation $ Z_{01} $ or an observation which we would say is even more in favor of $ H_1 $ than the observed $Z_{01}$ (this is the p-value) is\n",
    "\n",
    "$$ 1 - \\mathrm{cdf}_{Bi(m, 0.5)}\\big (Z_{01} - 1 \\big ) $$\n",
    "\n",
    "If this probability is very low, for example $5 \\%$, we reject $ H_0 $ in favour of $ H_1 $."
   ]
  },
  {
   "cell_type": "markdown",
   "metadata": {},
   "source": [
    "**Note**\n",
    "\n",
    "Consider two following sequences of $ (X,Y)_i $ for $ n = 9 $, each of these has $\\sum X_i = 3$ and $\\sum Y_i = 6$\n",
    "\n",
    "**CASE A: ** (0,1), (0,1), (0,1), (0,1), (0,1), (0,1), (1,0), (1,0), (1,0)\n",
    "\n",
    "$$ \n",
    "m = 9, Z_{01} = 6 \\\\\n",
    "1 - \\mathrm{cdf}_{Bi(m, 0.5)} \\doteq 0.377 \n",
    "$$\n",
    "\n",
    "**CASE B: ** (1,1), (1,1), (1,1), (0,1), (0,1), (0,1), (0,0), (0,0), (0,0)\n",
    "\n",
    "$$\n",
    "m = 3, Z_{01} = 3 \\\\\n",
    "1 - \\mathrm{cdf}_{Bi(m, 0.5)} = 0.125 \n",
    "$$\n",
    "\n",
    "From this we can see, that having only the information about $\\sum X_i$ and $\\sum Y_i$ is not sufficient. In fact the p-value in case A is almost 3 times larger than the p-value in case B!"
   ]
  },
  {
   "cell_type": "code",
   "execution_count": 2,
   "metadata": {},
   "outputs": [],
   "source": [
    "def calculate_significance_level(m: int, z_01: int) -> float: \n",
    "    \"\"\" Probability we will measure statistic \n",
    "    that is more in favour of H_1 then our measurement \"\"\"\n",
    "    p_0 = 0.5\n",
    "    alpha = 1 - st.binom.cdf(k=z_01-1, n=m, p=p_0)\n",
    "    return alpha "
   ]
  },
  {
   "cell_type": "code",
   "execution_count": 3,
   "metadata": {},
   "outputs": [
    {
     "name": "stdout",
     "output_type": "stream",
     "text": [
      "In case A the significance level is 0.25390625 \n",
      "in case B it is 0.125\n"
     ]
    }
   ],
   "source": [
    "print(f\"In case A the significance level is {calculate_significance_level(9, 6)} \\n\"\\\n",
    "      f\"in case B it is {calculate_significance_level(3, 3)}\")"
   ]
  },
  {
   "cell_type": "markdown",
   "metadata": {},
   "source": [
    "**Test your guess**\n",
    "\n",
    "If we have $m = 100$, how many times must $Y > X$ so we can say it is 'better' with $80\\%$ confidence?"
   ]
  },
  {
   "cell_type": "code",
   "execution_count": 4,
   "metadata": {},
   "outputs": [
    {
     "name": "stdout",
     "output_type": "stream",
     "text": [
      "The answer is 8.0\n"
     ]
    }
   ],
   "source": [
    "m = 100\n",
    "p_0 = 0.5\n",
    "confidence = 0.80\n",
    "answer = 2*((m/2) - st.binom.ppf(1 - confidence, m, p_0))\n",
    "print(f\"The answer is {answer}\")"
   ]
  },
  {
   "cell_type": "markdown",
   "metadata": {},
   "source": [
    "## Ad-hoc Bayesian Approach\n",
    "\n",
    "Denote $ p_{01}^{*} = \\frac{p_{01}}{p_{01} + p_{10}} $\n",
    "\n",
    "The previous frequentist approach was basically a test whether $ H_0: p_{01}^{*} = 0.5 $ against the alternative $ H_1: p_{01}^{*} > 0.5 $\n",
    "\n",
    "In Bayesian view $ p_{01}^{*} $ is not a fixed parameter but a random variable. It is reasonable to assume it's prior is distributed according to $ Beta(\\alpha, \\alpha) $ (this is standard symmetric distribution on interval [0,1], we choose symmetric if we have no prior reason to believe $X$ is better / worse than $Y$). We can calculate posterior of $ p_{01}^{*} $ and from that we can for example calculate the probability that posterior of $ p_{01}^{*} $ is greater than $ 0.5 $ or better yet the one-sided credibility interval for $p_{01}^{*}.$ If this interval lies to the right of $0.5$ we can say $Y > X$ with probability for example $0.9$. \n",
    "\n",
    "In addition we can also make claims such as $Y$ can't be worse than $X$ by more than $20\\%$ with probability more than $1\\%$. \n",
    "\n",
    "**Technical details**\n",
    "\n",
    "TODO: think about additional assumptions you are making here (see Ad-hoc Frequentist approach). \n",
    "\n",
    "We have $ Z_{01} | p^*_{01}, m \\sim Bi(m, p^*_{01}) $ \n",
    "and \n",
    "$ p_{01}^* \\sim Beta(\\alpha, \\alpha) $ from which (using the [well known relation](https://en.wikipedia.org/wiki/Conjugate_prior#Discrete_distributions) for posterior in the beta binomial case) we have \n",
    "\n",
    "$$\n",
    "p_{01}^* | Z_{01}, m \\sim Beta( \\alpha + Z_{01}, \\alpha + m - Z_{01}) \n",
    "$$"
   ]
  },
  {
   "cell_type": "markdown",
   "metadata": {},
   "source": [
    "The parameter $\\alpha$ must be selected on case-by-case basis (the higher it's value the greater our prior belief about $X = Y$). Let's for now assume $\\alpha = 1$ which corresponds to the prior of $p_{01}^*$ beiing a uniform distribution on $[0,1]$."
   ]
  },
  {
   "cell_type": "code",
   "execution_count": 5,
   "metadata": {},
   "outputs": [],
   "source": [
    "def plot_beta_density(alpha: float, beta: float, label: str = None):\n",
    "    \"\"\" Plot probability density function of Beta(alpha, beta) \"\"\"\n",
    "    grid_density = 100\n",
    "    x = np.linspace(0,1,grid_density)\n",
    "    y = st.beta.pdf(x, alpha, beta)\n",
    "    plt.plot(x, y, label = label)"
   ]
  },
  {
   "cell_type": "code",
   "execution_count": 6,
   "metadata": {},
   "outputs": [],
   "source": [
    "def posterior_alpha_beta(alpha: float, beta: float, n: int, k: int) -> Tuple[float]: \n",
    "    \"\"\" Calculate posterior parameters of p with prior Beta(alpha, beta) \n",
    "        Given observation: k ones out of n iid trials where each trial | p ~ Alt(p)\n",
    "    \"\"\"\n",
    "    return alpha + k, beta + n - k"
   ]
  },
  {
   "cell_type": "code",
   "execution_count": 7,
   "metadata": {},
   "outputs": [],
   "source": [
    "def plot_posterior(alpha: float, beta: float, n: int, k: int, label: str = None) -> Tuple[float]: \n",
    "    alpha_posterior, beta_posterior = posterior_alpha_beta(alpha, beta, n, k)\n",
    "    plot_beta_density(alpha_posterior, beta_posterior, label)"
   ]
  },
  {
   "cell_type": "code",
   "execution_count": 8,
   "metadata": {},
   "outputs": [],
   "source": [
    "def posterior_quantile(q: float, alpha: float, beta: float, n: int, k: int) -> float: \n",
    "    alpha_posterior, beta_posterior = posterior_alpha_beta(alpha, beta, n, k)\n",
    "    quantile = st.beta.ppf(q, alpha_posterior, beta_posterior)\n",
    "    return quantile"
   ]
  },
  {
   "cell_type": "code",
   "execution_count": 9,
   "metadata": {},
   "outputs": [],
   "source": [
    "def posterior_cdf(x: float, alpha: float, beta: float, n: int, k: int) -> float: \n",
    "    alpha_posterior, beta_posterior = posterior_alpha_beta(alpha, beta, n, k)\n",
    "    probability = st.beta.cdf(x, alpha_posterior, beta_posterior)\n",
    "    return probability"
   ]
  },
  {
   "cell_type": "code",
   "execution_count": 10,
   "metadata": {},
   "outputs": [
    {
     "data": {
      "text/plain": [
       "<matplotlib.lines.Line2D at 0x7f81aedf45c0>"
      ]
     },
     "execution_count": 10,
     "metadata": {},
     "output_type": "execute_result"
    },
    {
     "data": {
      "image/png": "[encoded data removed]",
      "text/plain": [
       "<Figure size 432x288 with 1 Axes>"
      ]
     },
     "metadata": {},
     "output_type": "display_data"
    }
   ],
   "source": [
    "alpha = 1.0\n",
    "\n",
    "plot_posterior(alpha, alpha, 9, 6, \"CASE A\")\n",
    "plot_posterior(alpha, alpha, 3, 3, \"CASE B\")\n",
    "plt.legend()\n",
    "plt.axvline(x=0.5, color=\"gray\", ls=\"dotted\")"
   ]
  },
  {
   "cell_type": "code",
   "execution_count": 11,
   "metadata": {},
   "outputs": [
    {
     "name": "stdout",
     "output_type": "stream",
     "text": [
      "Probability of posterior >= 0.5: \n",
      "\n",
      "case A: 0.83 \n",
      "case B: 0.94 \n",
      "\n",
      "We are 90% confident that Y is better than X by at least: \n",
      "\n",
      "case A: -10.0 % \n",
      "case B: 12.0 %\n"
     ]
    }
   ],
   "source": [
    "print(f\"Probability of posterior >= 0.5: \\n\\n\"\n",
    "      f\"case A: {np.round(1 - posterior_cdf(0.5, 1., 1., 9, 6), 2)} \\n\"\n",
    "      f\"case B: {np.round(1 - posterior_cdf(0.5, 1., 1., 3, 3), 2)} \\n\\n\"\n",
    "      f\"We are 90% confident that Y is better than X by at least: \\n\\n\"\n",
    "      f\"case A: {np.round(2*(posterior_quantile(1 - 0.9, 1., 1., 9, 6) - 0.5), 2)*100} % \\n\"\n",
    "      f\"case B: {np.round(2*(posterior_quantile(1 - 0.9, 1., 1., 3, 3) - 0.5), 2)*100} %\")"
   ]
  },
  {
   "cell_type": "markdown",
   "metadata": {},
   "source": [
    "## Conceptual Frequentist Approach\n",
    "\n",
    "The universal frequentist approach is based on the likelihood ratio: \n",
    "\n",
    "$$\n",
    "\\mathrm{lr}(z) = \\frac{\\mathrm{sup}_{p \\in B_1} L(p, z)}{\\mathrm{sup}_{p \\in B_0} L(p, z)}\n",
    "$$\n",
    "\n",
    "where \n",
    "\n",
    "- $z$ is element of the observation space\n",
    "- $p$ is element of the parameter space\n",
    "- $L$ is the likelihood function\n",
    "- $B_0, B_1$ are subsets of the parameter space that correspond to $H_0$ resp. $H_1$\n",
    "\n",
    "In our case we have $p = (p_{00}, p_{10}, p_{01}, p_{11})$. $B_1$ is the set $\\lbrace p: \\sum p_{ij} = 1\\rbrace$ and $B_0$ is the set $\\lbrace p: \\sum p_{ij} = 1, p_{01} = p_{10}\\rbrace$. Observation space is the space off all sequences of length $n$ of pairs with elements $0$ or $1$. \n",
    "\n",
    "So in our case we have $L(p,y) = \\frac{n!}{z_{00}!z_{01}!z_{10}!z_{11}!}p_{00}^{z_{00}} p_{01}^{z_{01}} p_{10}^{z_{10}} p_{11}^{z_{11}}$ and after solving what the supremas are -- use for example Lagrange multipliers, but it is quite intuitive -- we have\n",
    "\n",
    "$$\n",
    "\\mathrm{lr}(z) = \\frac{(\\frac{z_{00}}{n})^{z_{00}}(\\frac{z_{01}}{n})^{z_{01}}(\\frac{z_{10}}{n})^{z_{10}}(\\frac{z_{11}}{n})^{z_{11}}}{(\\frac{z_{00}}{n})^{z_{00}} (\\frac{(z_{01} + z_{10})}{2n})^{z_{01} + z_{10}}   (\\frac{z_{11}}{n})^{z_{11}}}\n",
    "$$\n",
    "\n",
    "which is equal to \n",
    "\n",
    "$$\n",
    "\\mathrm{lr}(z) = \\frac{z_{01}^{z_{01}} z_{10}^{z_{10}}}{(\\frac{z_{01}+z_{10}}{2})^{z_{01}+z_{10}}}\n",
    "$$\n",
    "\n",
    "p-value in this case is defined as \n",
    "\n",
    "$$\n",
    "p-val = \\mathrm{sup}_{p \\in B_0} \\mathbb{P}\\big (lr(Z) \\geq lr(z^{obs}) | p \\big)\n",
    "$$\n",
    "\n",
    "it can be calculated numerically. "
   ]
  },
  {
   "cell_type": "code",
   "execution_count": 12,
   "metadata": {},
   "outputs": [],
   "source": [
    "def likelihood_ratio(z_01: float, z_10: float) -> float: \n",
    "    lr = z_10**z_10 * z_01**z_01 / ((z_10 + z_01)/2)**(z_01 + z_10)\n",
    "    return lr"
   ]
  },
  {
   "cell_type": "code",
   "execution_count": 13,
   "metadata": {},
   "outputs": [],
   "source": [
    "def sums(n: int, k: int) -> Set[Tuple[int]]: \n",
    "    \"\"\" All possible distinct integer non-negative k-tuples that sum up to n \"\"\"\n",
    "    if n == 0: \n",
    "        return set([(0,)*k])\n",
    "    else: \n",
    "        res = set()\n",
    "        for i in range(k): \n",
    "            for s in sums(n-1, k):\n",
    "                s_copy = list(s)\n",
    "                s_copy[i] = s_copy[i]+1\n",
    "                res.add(tuple(s_copy))\n",
    "                \n",
    "    return res"
   ]
  },
  {
   "cell_type": "code",
   "execution_count": 14,
   "metadata": {},
   "outputs": [],
   "source": [
    "def multinomial_pdf(n: int, z: List[int], p: List[float]) -> float: \n",
    "    \"\"\" Ugly ugly, stats does not support :( \"\"\"\n",
    "    log_pdf = math.log(math.factorial(n)) - \\\n",
    "              sum([math.log(math.factorial(zi)) for zi in z]) + \\\n",
    "              sum([zi*math.log(pi) for zi,pi in zip(z,p)])\n",
    "    \n",
    "    return math.exp(log_pdf)"
   ]
  },
  {
   "cell_type": "code",
   "execution_count": 15,
   "metadata": {},
   "outputs": [],
   "source": [
    "def p_val(lr: float, p_00: float, p_01: float, p_10: float, p_11: float, n: int) -> float:\n",
    "    probability = 0\n",
    "    for s in sums(n, 4): \n",
    "        z_00, z_01, z_10, z_11 = s\n",
    "        lr_s = likelihood_ratio(z_01, z_10)\n",
    "        if lr_s >= lr:\n",
    "            probability += multinomial_pdf(n, s, [p_00, p_01, p_10, p_11]) \n",
    "            \n",
    "    return probability"
   ]
  },
  {
   "cell_type": "markdown",
   "metadata": {},
   "source": [
    "Now we just need to maximize the `p_val` function on $\\lbrace p : \\sum p_{ij} = 1, p_{ij} \\geq 0\\rbrace$. Can be easily done using scipy.optimize. TODO: as implemented now it is VERY inefficient, make faster"
   ]
  },
  {
   "cell_type": "code",
   "execution_count": 16,
   "metadata": {},
   "outputs": [],
   "source": [
    "# Case A, p-val ~ 0.36\n",
    "# n = 9\n",
    "# z_01, z_10 = 6,3\n",
    "\n",
    "# Case B, p-val ~ 0.043\n",
    "n = 9\n",
    "z_01, z_10 = 3,0\n",
    "\n",
    "# Start calculating p-value\n",
    "\n",
    "lr_obs = likelihood_ratio(z_01, z_10)\n",
    "\n",
    "p_0 = [0.25]*4\n",
    "\n",
    "def objective(p): \n",
    "    return p_val(lr_obs, p[0], p[1], p[2], p[3], n)\n",
    "\n",
    "def constraint_1(p): \n",
    "    return sum(p) - 1\n",
    "\n",
    "def constraint_2(p):\n",
    "    return p[1] - p[2]\n",
    "\n",
    "b = (0., 1.)\n",
    "bounds = (b,b,b,b)\n",
    "\n",
    "con_1 = {\"type\": \"eq\", \"fun\": constraint_1}\n",
    "con_2 = {\"type\": \"eq\", \"fun\": constraint_2}\n",
    "constraints = [con_1, con_2]\n",
    "\n",
    "solution = opt.minimize(fun=objective, x0=p_0, method='SLSQP', \\\n",
    "                        bounds=bounds, constraints=constraints)"
   ]
  },
  {
   "cell_type": "code",
   "execution_count": 17,
   "metadata": {},
   "outputs": [
    {
     "name": "stdout",
     "output_type": "stream",
     "text": [
      "     fun: 0.04358006742154446\n",
      "     jac: array([0.3918338 , 0.39231807, 0.39231807, 0.3918338 ])\n",
      " message: 'Optimization terminated successfully.'\n",
      "    nfev: 37\n",
      "     nit: 6\n",
      "    njev: 6\n",
      "  status: 0\n",
      " success: True\n",
      "       x: array([0.10058914, 0.39941085, 0.39941085, 0.10058915])\n"
     ]
    }
   ],
   "source": [
    "print(solution)"
   ]
  },
  {
   "cell_type": "markdown",
   "metadata": {},
   "source": [
    "## Conceptual Bayesian Approach [the way to go]\n",
    "\n",
    "Conceptual bayesian approach must select prior for the whole vector $(p_{00}, p_{01}, p_{10}, p_{11})$. Standard prior for parameters of multinomial distribution is the Dirichlet distribution (which is just a general case of the Beta distribution we used in ad-hoc bayesian approach section). \n",
    "\n",
    "$$\n",
    "Dir(K, \\alpha) \\sim f(p_1, \\dots, p_K, \\alpha_1, \\dots, \\alpha_K) = \\frac{1}{B(\\alpha)} \\prod_{i=1}^{K} x_i^{\\alpha_i-1}\n",
    "$$\n",
    "\n",
    "for $ p_i \\geq 0, \\sum p_i = 1$. In our case $K=4$. Let $\\alpha_0 = \\sum_{j=1}^K \\alpha_j$. Important properties of the Dirichlet distribution are: \n",
    "\n",
    "- $ EP_i = \\frac{\\alpha_i}{\\alpha_0} $\n",
    "- $ var P_i = \\frac{\\alpha_i(\\alpha_0 - \\alpha_i)}{\\alpha_0^2(\\alpha_0+1)}$\n",
    "- Marginal distributions are $P_i \\sim Beta(\\alpha_i, \\alpha_0 - \\alpha_i)$\n",
    "- Similarly as for Beta distribution if we have multinomial - dirichlet model, the posterior is $Dir(K, \\alpha_1 + c_1, \\dots, \\alpha_K + c_K)$. (We observe samples from multinomial distribution with $K$ cathegories, cathegory $i$ was observed $c_i$ times and our prior belief of probability of observing that cathegory is $P_i$ where $P = (P_1, \\dots, P_K) \\sim Dir(\\alpha_1, \\dots, \\alpha_K).$\n",
    "\n",
    "What would be useful for our inference is to have the distribution of $p_{01} - p_{10}$. Good way to find this is described for example [here](https://stats.stackexchange.com/questions/256662/marginal-distribution-of-the-difference-of-two-elements-of-a-dirichlet-distribut) -- unfortunately in the link they made mistake in the calculation of integral.\n",
    "We can use the fact, that Dirichlet distribution can be composed of independent  $Gamma(\\alpha_i, 1)$ distributions. \n",
    "\n",
    "$$\n",
    "P_i = \\frac{Y_i}{Y_1 + \\dots + Y_K}\n",
    "$$\n",
    "\n",
    "Since $Y_3 + \\dots Y_K$ is also $Gamma$ we can restric ourselves to the case $K = 3$. \n",
    "\n",
    "Let $P, Q, (1-P-Q)$ then the we have the density: \n",
    "\n",
    "$$\n",
    "f(p,q) = \\frac{\\Gamma(\\alpha_1)\\Gamma(\\alpha_2)\\Gamma(\\alpha_3)}{\\Gamma(\\alpha_1+\\alpha_2+\\alpha_3)}p^{\\alpha_1-1}q^{\\alpha_2-1}(1-p-q)^{\\alpha_3-1}\n",
    "$$\n",
    "\n",
    "The substitution theorem tells us that (under some conditons): \n",
    "\n",
    "$$\n",
    "\\int_{M} f(p,q) dpdq = \\int_{\\varphi(M)} f(\\varphi^{-1}(x,y)) \\mid J_{\\varphi^{-1}}(x,y) \\mid dx dy\n",
    "$$\n",
    "\n",
    "where $x,y = \\varphi(p,q) = (p, q-p).$ The Jacobian is constant 1, so we have that the density of $X, Y$ (corresponding to $P, Q-P$) is \n",
    "\n",
    "$$\n",
    "f_{XY}(x,y) =\n",
    " \\frac{\\Gamma(\\alpha_1)\\Gamma(\\alpha_2)\\Gamma(\\alpha_3)}{\\Gamma(\\alpha_1+\\alpha_2+\\alpha_3)}x^{\\alpha_1-1}(x+y)^{\\alpha_2-1}(1-x-(x+y))^{\\alpha_3-1}\n",
    "$$\n",
    "\n",
    "and has support $\\lbrace (x,y): x \\in (0,1), x+y \\in (0,1), 2x+y \\in (0,1) \\rbrace.$ \n",
    "\n",
    "This gives us that $f_Y(y) = \\int_{0}^{(1-y)/2} f_{XY}(x,y) dx $ for positive $y$ and $f_Y(y) = \\int_{-y}^{(1-y)/2} f_{XY}(x,y) dx$ for negative $y$."
   ]
  },
  {
   "cell_type": "markdown",
   "metadata": {},
   "source": [
    "This is something Wolfram Mathematica can handle and we get for $y \\in (0,1)$\n",
    "\n",
    "$$\n",
    "f_Y(y) = \\frac{\\Gamma(\\alpha_1)\\Gamma(\\alpha_2)\\Gamma(\\alpha_3)}{\\Gamma(\\alpha_1 + \\alpha_2 + \\alpha_3)} 2^{-\\alpha_1}\\Gamma(\\alpha_1)y^{\\alpha_2-1}\\Gamma(\\alpha_3)(1-y)^{\\alpha_1+\\alpha_3-1} {}_2\\tilde{F}_1(\\alpha_1, 1-\\alpha_2, \\alpha_1+\\alpha_3,\\frac{-1+y}{2y})\n",
    "$$\n",
    "\n",
    "and for $y \\in (-1,0)$\n",
    "\n",
    "$$\n",
    "f_Y(y) = \\frac{\\Gamma(\\alpha_1)\\Gamma(\\alpha_2)\\Gamma(\\alpha_3)}{\\Gamma(\\alpha_1 + \\alpha_2 + \\alpha_3)} \\Big \\lbrace \\\\\n",
    "\\frac{1}{\\Gamma(1-\\alpha_1)}(1-y)^{-1+\\alpha_3}(-y)^{-1+\\alpha_1+\\alpha_2}\\Gamma(1-\\alpha_1-\\alpha_2)\\Gamma(\\alpha_2) {}_2F_1(\\alpha_1, 1-\\alpha_3, \\alpha_1+\\alpha_2,\\frac{2y}{-1+y}) + \\\\\n",
    "\\frac{1}{\\Gamma(-1+\\alpha_1 + \\alpha_2 + \\alpha_3)} 2^{1-\\alpha_1-\\alpha_2} (1-y)^{-2+\\alpha_1+\\alpha_2+\\alpha_3} \\Gamma(-1+\\alpha_1+\\alpha_2) \\Gamma(\\alpha_3) {}_2F_1(1-\\alpha_2, 2-\\alpha_1-\\alpha_2-\\alpha_3,2-\\alpha_1-\\alpha_2, \\frac{2y}{-1+y}) \\Big \\rbrace\n",
    "$$\n",
    "\n",
    "where $\\Gamma$ is the gamma function and ${}_2F_1$ is the hypergeometric 2f1 function and ${}_2\\tilde{F}_1$ is the hypergeometric regularized 2f1 function. "
   ]
  },
  {
   "cell_type": "code",
   "execution_count": 6,
   "metadata": {},
   "outputs": [],
   "source": [
    "from dirichlet import Dirichlet"
   ]
  },
  {
   "cell_type": "code",
   "execution_count": 36,
   "metadata": {},
   "outputs": [
    {
     "data": {
      "image/png": "[encoded data removed]",
      "text/plain": [
       "<Figure size 432x288 with 1 Axes>"
      ]
     },
     "metadata": {},
     "output_type": "display_data"
    },
    {
     "data": {
      "image/png": "[encoded data removed]",
      "text/plain": [
       "<Figure size 432x288 with 1 Axes>"
      ]
     },
     "metadata": {},
     "output_type": "display_data"
    }
   ],
   "source": [
    "a_00, a_01, a_10, a_11 = 0.05,0.25,0.25,0.9\n",
    "\n",
    "# Case A\n",
    "z_00, z_01, z_10, z_11 = 0, 6, 3, 0\n",
    "posterior_A = Dirichlet(np.array([a_00 + z_00, a_01 + z_01, a_10 + z_10, a_11 + z_11]))\n",
    "\n",
    "# Case B\n",
    "z_00, z_01, z_10, z_11 = 3, 3, 0, 3\n",
    "posterior_B = Dirichlet(np.array([a_00 + z_00, a_01 + z_01, a_10 + z_10, a_11 + z_11]))\n",
    "\n",
    "def plot_posterior(distribution: Dirichlet, title: str):\n",
    "    x = np.linspace(-1,1,100)\n",
    "    pdf = [distribution.pdf_marginal_of_difference(xi,2,1) for xi in x] # exact formula\n",
    "    samples = distribution.sample_marginal_of_difference_simulated(2,1,10000)\n",
    "    plt.plot(x, pdf)\n",
    "    plt.hist(samples, color=\"silver\",density=True, bins=100, alpha=0.7)\n",
    "    plt.title(title) # which is the same as (p11 + p01) - (p11 + p10) = p01 - p10\n",
    "    plt.show()\n",
    "\n",
    "plot_posterior(posterior_A, \"Posterior distribution of EY - EX (case A)\")\n",
    "plot_posterior(posterior_B, \"Posterior distribution of EY - EX (case B)\")"
   ]
  },
  {
   "cell_type": "code",
   "execution_count": 47,
   "metadata": {},
   "outputs": [
    {
     "name": "stdout",
     "output_type": "stream",
     "text": [
      "0.8446\n",
      "0.982\n"
     ]
    }
   ],
   "source": [
    "n = 10000\n",
    "print(sum([x>0.0 for x in posterior_A.sample_marginal_of_difference_simulated(2,1,n)])/n)\n",
    "print((sum([x>0.0 for x in posterior_B.sample_marginal_of_difference_simulated(2,1,n)])/n))"
   ]
  },
  {
   "cell_type": "markdown",
   "metadata": {},
   "source": [
    "As we can see, the results are very different for the two cases. In case A we estimate $X > Y$ with probability $0.84$ in case B it is $0.98$."
   ]
  },
  {
   "cell_type": "code",
   "execution_count": null,
   "metadata": {},
   "outputs": [],
   "source": []
  }
 ],
 "metadata": {
  "kernelspec": {
   "display_name": "Python 3",
   "language": "python",
   "name": "python3"
  },
  "language_info": {
   "codemirror_mode": {
    "name": "ipython",
    "version": 3
   },
   "file_extension": ".py",
   "mimetype": "text/x-python",
   "name": "python",
   "nbconvert_exporter": "python",
   "pygments_lexer": "ipython3",
   "version": "3.6.5"
  }
 },
 "nbformat": 4,
 "nbformat_minor": 2
}
